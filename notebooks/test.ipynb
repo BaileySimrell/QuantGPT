{
 "cells": [
  {
   "cell_type": "code",
   "execution_count": null,
   "metadata": {},
   "outputs": [],
   "source": [
    "import logging\n",
    "import os\n",
    "import openai\n",
    "\n",
    "from llama_index.query_engine.retriever_query_engine import RetrieverQueryEngine\n",
    "from llama_index.callbacks.base import CallbackManager\n",
    "from llama_index import (\n",
    "    LLMPredictor,\n",
    "    ServiceContext,\n",
    "    StorageContext,\n",
    "    load_index_from_storage,\n",
    ")\n",
    "from langchain.chat_models import ChatOpenAI\n",
    "import chainlit as cl\n",
    "from dotenv import load_dotenv\n",
    "from llama_index import (\n",
    "    VectorStoreIndex,\n",
    "    get_response_synthesizer,\n",
    ")\n",
    "from llama_index.retrievers import VectorIndexRetriever\n",
    "from llama_index.query_engine import RetrieverQueryEngine\n",
    "from llama_index.indices.postprocessor import SimilarityPostprocessor\n",
    "\n",
    "os.environ.get(\"OPENAI_API_KEY\")"
   ]
  },
  {
   "cell_type": "code",
   "execution_count": null,
   "metadata": {},
   "outputs": [],
   "source": [
    "openai.api_key = os.environ.get(\"OPENAI_API_KEY\")"
   ]
  },
  {
   "cell_type": "code",
   "execution_count": null,
   "metadata": {},
   "outputs": [],
   "source": [
    "try:\n",
    "    print('Loading index...')\n",
    "    # rebuild storage context\n",
    "    storage_context = StorageContext.from_defaults(persist_dir=\"./storage\")\n",
    "    # load index\n",
    "    index = load_index_from_storage(storage_context)\n",
    "except:\n",
    "    print('Index not found, building new one.')\n",
    "    from llama_index import GPTVectorStoreIndex, SimpleDirectoryReader\n",
    "\n",
    "    documents = SimpleDirectoryReader(input_files=[\n",
    "        \"cookbook.md\",\n",
    "        \"features.md\"\n",
    "    ]).load_data()\n",
    "    index = GPTVectorStoreIndex.from_documents(documents)\n",
    "    index.storage_context.persist()"
   ]
  },
  {
   "cell_type": "code",
   "execution_count": null,
   "metadata": {},
   "outputs": [],
   "source": [
    "llm_predictor = LLMPredictor(\n",
    "    llm=ChatOpenAI(\n",
    "        temperature=0.5,\n",
    "        model_name=\"gpt-3.5-turbo\",\n",
    "        streaming=True,\n",
    "    ),\n",
    ")\n",
    "service_context = ServiceContext.from_defaults(\n",
    "    llm_predictor=llm_predictor,\n",
    "    chunk_size=512,\n",
    "    # callback_manager=CallbackManager([cl.LlamaIndexCallbackHandler()]),\n",
    ")\n",
    "\n",
    "retriever = VectorIndexRetriever(\n",
    "    index=index,\n",
    "    similarity_top_k=10,\n",
    ")\n",
    "# configure response synthesizer\n",
    "response_synthesizer = get_response_synthesizer(\n",
    "    response_mode=\"refine\", service_context=service_context)\n",
    "\n",
    "\n",
    "# index.as_retriever()\n",
    "# assemble query engine\n",
    "# query_engine =RetrieverQueryEngine.from_args(\n",
    "#     streaming=True,\n",
    "#     retriever=retriever,\n",
    "#     response_synthesizer=response_synthesizer,\n",
    "#     node_postprocessors=[\n",
    "#         SimilarityPostprocessor(similarity_cutoff=0.7)\n",
    "#     ]\n",
    "# )\n",
    "\n",
    "query_engine = index.as_query_engine(\n",
    "    streaming=True,\n",
    "    retriever=retriever,\n",
    "    response_synthesizer=response_synthesizer,\n",
    "    service_context=service_context,\n",
    ")"
   ]
  },
  {
   "cell_type": "code",
   "execution_count": null,
   "metadata": {},
   "outputs": [],
   "source": [
    "question = \"\"\"\n",
    "How do I create a new feature?\n",
    "\"\"\""
   ]
  },
  {
   "cell_type": "code",
   "execution_count": null,
   "metadata": {},
   "outputs": [],
   "source": [
    "response = query_engine.query(question)\n",
    "\n",
    "response"
   ]
  },
  {
   "cell_type": "code",
   "execution_count": null,
   "metadata": {},
   "outputs": [],
   "source": [
    "# serialise response to json text and save to file\n",
    "import json\n",
    "\n",
    "\n",
    "with open('response.json', 'w') as f:\n",
    "    # json.dumps(response, f, default=lambda o: '<not serializable>', indent=4, sort_keys=True)\n",
    "    json.dump(response, f, default=lambda o: '<not serializable>', skipkeys=True, indent=4, sort_keys=True)"
   ]
  },
  {
   "cell_type": "code",
   "execution_count": null,
   "metadata": {},
   "outputs": [],
   "source": [
    "print(dir(response))"
   ]
  },
  {
   "cell_type": "code",
   "execution_count": null,
   "metadata": {},
   "outputs": [],
   "source": [
    "def list_sources(directory):\n",
    "    for root, _, files in os.walk(directory):\n",
    "        for file in files:\n",
    "            if file.endswith(\".md\") and not (file == \"api.md\" or file == \"all_pages.md\" or file == \"unknown.nd\" or file == \"chainlit.md\"):\n",
    "                yield os.path.join(root, file)\n",
    "\n",
    "\n",
    "list(list_sources(\"./data\"))"
   ]
  }
 ],
 "metadata": {
  "kernelspec": {
   "display_name": "vbt",
   "language": "python",
   "name": "python3"
  },
  "language_info": {
   "codemirror_mode": {
    "name": "ipython",
    "version": 3
   },
   "file_extension": ".py",
   "mimetype": "text/x-python",
   "name": "python",
   "nbconvert_exporter": "python",
   "pygments_lexer": "ipython3",
   "version": "3.10.13"
  }
 },
 "nbformat": 4,
 "nbformat_minor": 2
}
